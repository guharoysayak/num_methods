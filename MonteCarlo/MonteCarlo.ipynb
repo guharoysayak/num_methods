{
 "cells": [
  {
   "cell_type": "markdown",
   "metadata": {},
   "source": [
    "# Question 1 - Monte Carlo Integration\n",
    "Given integrand,\n",
    "$$f(x)=\\frac{1}{1+x^2}$$\n",
    "This will be integrated within the range $[0,1]$ using weight functions $\\omega(x)$ = 1 and $\\omega(x)$ = $\\frac{1}{3}[4-2x]$."
   ]
  },
  {
   "cell_type": "code",
   "execution_count": 1,
   "metadata": {},
   "outputs": [],
   "source": [
    "import numpy as np\n",
    "import matplotlib.pyplot as plt\n",
    "import scipy.integrate as integrate\n",
    "import pandas as pd\n",
    "%matplotlib inline"
   ]
  },
  {
   "cell_type": "code",
   "execution_count": 2,
   "metadata": {},
   "outputs": [],
   "source": [
    "def f1(x):\n",
    "    return 1/(1+x**2)\n",
    "\n",
    "def w(x):\n",
    "    return (4-2*x)/3\n",
    "\n",
    "def f_by_w(y):\n",
    "    x = 2 - np.sqrt(4 - 3*y)\n",
    "    return f1(x)/w(x)"
   ]
  },
  {
   "cell_type": "code",
   "execution_count": 3,
   "metadata": {},
   "outputs": [],
   "source": [
    "def int_w(init,fin,N,f): # This function returns the integral and sigma given a function.\n",
    "    # init = initial x\n",
    "    # fin = final x\n",
    "    # N = seed\n",
    "    # if f is f1, w = 1, if f is f_by_w, w = (4-2x)/3\n",
    "    rand_list = np.random.uniform(init,fin,N)\n",
    "    sum_1 = 0\n",
    "    sum_2 = 0\n",
    "    for k in rand_list:\n",
    "        sum_1 = sum_1 + f(k)\n",
    "        sum_2 = sum_2 + f(k)**2\n",
    "    avg_f = sum_1/N\n",
    "    avg_v = sum_2/N\n",
    "    \n",
    "    int_val = (fin-init)*avg_f\n",
    "    var_val = (1/N)*((fin-init)*avg_v - ((fin-init)*avg_f)**2)\n",
    "    \n",
    "    return np.array([int_val,var_val])"
   ]
  },
  {
   "cell_type": "code",
   "execution_count": 6,
   "metadata": {},
   "outputs": [
    {
     "data": {
      "text/plain": [
       "array([0.763214  , 0.00315622])"
      ]
     },
     "execution_count": 6,
     "metadata": {},
     "output_type": "execute_result"
    }
   ],
   "source": [
    "int_w(0,1,10,f1)"
   ]
  },
  {
   "cell_type": "code",
   "execution_count": 19,
   "metadata": {},
   "outputs": [],
   "source": [
    "result = np.zeros((9,5))\n",
    "N = [10,20,50,100,200,500,1000,2000,5000]\n",
    "for i in range(len(N)):\n",
    "    result[i][0] = N[i]\n",
    "    result[i][1] = int_w(0,1,N[i],f1)[0]\n",
    "    result[i][2] = int_w(0,1,N[i],f1)[1]\n",
    "    result[i][3] = int_w(0,1,N[i],f_by_w)[0]\n",
    "    result[i][4] = int_w(0,1,N[i],f_by_w)[1]"
   ]
  },
  {
   "cell_type": "code",
   "execution_count": 20,
   "metadata": {},
   "outputs": [],
   "source": [
    "result_pd=pd.DataFrame(result,columns = [\"N\",\"w(x) = 1, I\",\"$\\sigma_{I}$\",\"w(x) = (4-2x)/3, I\",\"$\\sigma_{I}$\"])"
   ]
  },
  {
   "cell_type": "code",
   "execution_count": 21,
   "metadata": {},
   "outputs": [
    {
     "data": {
      "text/html": [
       "<div>\n",
       "<style scoped>\n",
       "    .dataframe tbody tr th:only-of-type {\n",
       "        vertical-align: middle;\n",
       "    }\n",
       "\n",
       "    .dataframe tbody tr th {\n",
       "        vertical-align: top;\n",
       "    }\n",
       "\n",
       "    .dataframe thead th {\n",
       "        text-align: right;\n",
       "    }\n",
       "</style>\n",
       "<table border=\"1\" class=\"dataframe\">\n",
       "  <thead>\n",
       "    <tr style=\"text-align: right;\">\n",
       "      <th></th>\n",
       "      <th>N</th>\n",
       "      <th>w(x) = 1, I</th>\n",
       "      <th>$\\sigma_{I}$</th>\n",
       "      <th>w(x) = (4-2x)/3, I</th>\n",
       "      <th>$\\sigma_{I}$</th>\n",
       "    </tr>\n",
       "  </thead>\n",
       "  <tbody>\n",
       "    <tr>\n",
       "      <th>0</th>\n",
       "      <td>10.0</td>\n",
       "      <td>0.667240</td>\n",
       "      <td>0.001775</td>\n",
       "      <td>0.778137</td>\n",
       "      <td>2.789469e-05</td>\n",
       "    </tr>\n",
       "    <tr>\n",
       "      <th>1</th>\n",
       "      <td>20.0</td>\n",
       "      <td>0.789872</td>\n",
       "      <td>0.001381</td>\n",
       "      <td>0.780950</td>\n",
       "      <td>2.150061e-05</td>\n",
       "    </tr>\n",
       "    <tr>\n",
       "      <th>2</th>\n",
       "      <td>50.0</td>\n",
       "      <td>0.786806</td>\n",
       "      <td>0.000545</td>\n",
       "      <td>0.787401</td>\n",
       "      <td>8.214687e-06</td>\n",
       "    </tr>\n",
       "    <tr>\n",
       "      <th>3</th>\n",
       "      <td>100.0</td>\n",
       "      <td>0.794609</td>\n",
       "      <td>0.000308</td>\n",
       "      <td>0.779941</td>\n",
       "      <td>3.241891e-06</td>\n",
       "    </tr>\n",
       "    <tr>\n",
       "      <th>4</th>\n",
       "      <td>200.0</td>\n",
       "      <td>0.803217</td>\n",
       "      <td>0.000122</td>\n",
       "      <td>0.787016</td>\n",
       "      <td>1.971921e-06</td>\n",
       "    </tr>\n",
       "    <tr>\n",
       "      <th>5</th>\n",
       "      <td>500.0</td>\n",
       "      <td>0.790315</td>\n",
       "      <td>0.000054</td>\n",
       "      <td>0.784328</td>\n",
       "      <td>7.839785e-07</td>\n",
       "    </tr>\n",
       "    <tr>\n",
       "      <th>6</th>\n",
       "      <td>1000.0</td>\n",
       "      <td>0.785814</td>\n",
       "      <td>0.000025</td>\n",
       "      <td>0.784773</td>\n",
       "      <td>3.878563e-07</td>\n",
       "    </tr>\n",
       "    <tr>\n",
       "      <th>7</th>\n",
       "      <td>2000.0</td>\n",
       "      <td>0.783216</td>\n",
       "      <td>0.000013</td>\n",
       "      <td>0.785387</td>\n",
       "      <td>2.048290e-07</td>\n",
       "    </tr>\n",
       "    <tr>\n",
       "      <th>8</th>\n",
       "      <td>5000.0</td>\n",
       "      <td>0.781879</td>\n",
       "      <td>0.000005</td>\n",
       "      <td>0.785941</td>\n",
       "      <td>8.018559e-08</td>\n",
       "    </tr>\n",
       "  </tbody>\n",
       "</table>\n",
       "</div>"
      ],
      "text/plain": [
       "        N  w(x) = 1, I  $\\sigma_{I}$  w(x) = (4-2x)/3, I  $\\sigma_{I}$\n",
       "0    10.0     0.667240      0.001775            0.778137  2.789469e-05\n",
       "1    20.0     0.789872      0.001381            0.780950  2.150061e-05\n",
       "2    50.0     0.786806      0.000545            0.787401  8.214687e-06\n",
       "3   100.0     0.794609      0.000308            0.779941  3.241891e-06\n",
       "4   200.0     0.803217      0.000122            0.787016  1.971921e-06\n",
       "5   500.0     0.790315      0.000054            0.784328  7.839785e-07\n",
       "6  1000.0     0.785814      0.000025            0.784773  3.878563e-07\n",
       "7  2000.0     0.783216      0.000013            0.785387  2.048290e-07\n",
       "8  5000.0     0.781879      0.000005            0.785941  8.018559e-08"
      ]
     },
     "execution_count": 21,
     "metadata": {},
     "output_type": "execute_result"
    }
   ],
   "source": [
    "# The following table gives the comparison with and without using the weight function.\n",
    "result_pd"
   ]
  },
  {
   "cell_type": "markdown",
   "metadata": {},
   "source": [
    "# Question 2 - Metropolis algorithm\n",
    "\n",
    "The Metropolis algorithm will be studied in this section to integrate,\n",
    "$$\\int_{\\infty}^{\\infty}x^2e^{-x^2/2}$$\n",
    "Here, $e^{-x^2/2}$ will act as the weight function and points will be generated using the metropolis algorithm according to this function. The weight function also needs to be normalized and hence, the integrand will be multiplied and divided by $2\\pi$. \n",
    "\n",
    "These generated points will then be used to average $x^2$ to get the value of the integral. The acceptance ratio will be calculated and the autocorrelation function will be plotted. A comparison of the value of the integral with this method and using the above monte carlo will be shown in the end."
   ]
  },
  {
   "cell_type": "code",
   "execution_count": 5,
   "metadata": {},
   "outputs": [],
   "source": [
    "# Generating wrt w(x)\n",
    "def weight(x):\n",
    "    return np.e**(-(x**2)/2)\n",
    "\n",
    "def metropolis(N,d,ini): # Function for the metropolis algorithm\n",
    "    # This function generates points distributed by the weight function\n",
    "    x_fin = []\n",
    "    x_fin.append(ini)\n",
    "    c_acc = 0\n",
    "    for i in range(N):\n",
    "        temp = np.random.uniform(0,1)\n",
    "        if (temp < 0.5):\n",
    "            x_temp = x_fin[i] - d\n",
    "        elif (temp > 0.5 or temp == 0.5):\n",
    "            x_temp = x_fin[i] + d\n",
    "        r = weight(x_temp)/weight(x_fin[i])\n",
    "        if (r > 1 or r == 1):\n",
    "            c_acc = c_acc + 1\n",
    "            x_fin.append(x_temp)\n",
    "            continue\n",
    "        if (r < 1):\n",
    "            eta = np.random.uniform(0,1)\n",
    "            if (r > eta):\n",
    "                c_acc = c_acc + 1\n",
    "                x_fin.append(x_temp)\n",
    "            if (r < eta):\n",
    "                x_fin.append(x_fin[i])\n",
    "    acc_ratio = c_acc/len(x_fin)\n",
    "    return np.array([np.array(x_fin),acc_ratio],dtype = object)\n",
    "\n",
    "# Function to be averaged with the generated points \n",
    "def f(x):\n",
    "    return (x**2)\n",
    "\n",
    "def met_int(N,d,ini): # This is to integrate the function and find the acceptance ratio\n",
    "    domain = metropolis(N,d,ini)[0]\n",
    "    sum_ = 0\n",
    "    #normalization of weight function.\n",
    "    norm = np.sqrt(2*np.pi)\n",
    "    \n",
    "    for i in domain:\n",
    "        sum_ = sum_ + f(i)\n",
    "    plt.hist(domain)\n",
    "    print('Value of the integral is',norm*(sum_/np.size(domain)))\n",
    "    print('Acceptance ratio is',metropolis(N,d,ini)[1])\n",
    "    #print(np.max(domain),np.min(domain))\n",
    "\n",
    "def auto_c(N,d,ini): # This function will plot the auto correlation function.\n",
    "    domain = metropolis(N,d,ini)[0]\n",
    "    auto = []\n",
    "    kp = []\n",
    "    for k in range(100):\n",
    "        #x_k = domain[k]\n",
    "        kp.append(k)\n",
    "        fi = []\n",
    "        fi2 = []\n",
    "        fik = []\n",
    "        for i in range(np.size(domain)):\n",
    "            fi.append(f(domain[i]))\n",
    "            fi2.append(f(domain[i])**2)\n",
    "        for j in range(np.size(domain)-k):\n",
    "            fik.append(f(domain[j])*f(domain[j+k]))\n",
    "        fi = np.array(fi)\n",
    "        fi2 = np.array(fi2)\n",
    "        fik = np.array(fik)\n",
    "        auto.append((np.mean(fik)-np.mean(fi)**2)/(np.mean(fi2)-np.mean(fi)**2))\n",
    "    plt.plot(kp,auto)"
   ]
  },
  {
   "cell_type": "code",
   "execution_count": 112,
   "metadata": {},
   "outputs": [
    {
     "name": "stdout",
     "output_type": "stream",
     "text": [
      "Value of the integral is 2.507213817141029\n",
      "Acceptance ratio is 0.9199508004919951\n"
     ]
    },
    {
     "data": {
      "text/plain": [
       "Text(0.5, 0, 'X')"
      ]
     },
     "execution_count": 112,
     "metadata": {},
     "output_type": "execute_result"
    },
    {
     "data": {
      "image/png": "[encoded data removed]",
      "text/plain": [
       "<Figure size 432x288 with 1 Axes>"
      ]
     },
     "metadata": {
      "needs_background": "light"
     },
     "output_type": "display_data"
    }
   ],
   "source": [
    "# This runs the above functions and gives the value of the integral and the acceptance ratio.\n",
    "# The plot is the distribution generated according to the weight function\n",
    "met_int(100000,0.2,0)\n",
    "plt.ylabel('entries',fontsize = 15)\n",
    "plt.xlabel('X',fontsize = 15)"
   ]
  },
  {
   "cell_type": "code",
   "execution_count": 113,
   "metadata": {},
   "outputs": [
    {
     "data": {
      "text/plain": [
       "Text(0.5, 0, 'k')"
      ]
     },
     "execution_count": 113,
     "metadata": {},
     "output_type": "execute_result"
    },
    {
     "data": {
      "image/png": "[encoded data removed]",
      "text/plain": [
       "<Figure size 432x288 with 1 Axes>"
      ]
     },
     "metadata": {
      "needs_background": "light"
     },
     "output_type": "display_data"
    }
   ],
   "source": [
    "# Following is the plot of the autocorrelation function\n",
    "auto_c(10000,1,0)\n",
    "plt.ylabel('C(k)',fontsize = 15)\n",
    "plt.xlabel('k',fontsize =15)"
   ]
  },
  {
   "cell_type": "markdown",
   "metadata": {},
   "source": [
    "Variation of step size will be studied below."
   ]
  },
  {
   "cell_type": "code",
   "execution_count": 6,
   "metadata": {},
   "outputs": [
    {
     "data": {
      "text/plain": [
       "Text(0, 0.5, 'value of integral')"
      ]
     },
     "execution_count": 6,
     "metadata": {},
     "output_type": "execute_result"
    },
    {
     "data": {
      "image/png": "[encoded data removed]",
      "text/plain": [
       "<Figure size 432x288 with 1 Axes>"
      ]
     },
     "metadata": {
      "needs_background": "light"
     },
     "output_type": "display_data"
    }
   ],
   "source": [
    "# Study of variation of step size to the value of the integral, acceptance ratio and efficiency.\n",
    "def met_int2(N,d,ini): # This is to integrate the function and find the acceptance ratio\n",
    "    domain = metropolis(N,d,ini)[0]\n",
    "    sum_ = 0\n",
    "    #normalization of weight function.\n",
    "    norm = np.sqrt(2*np.pi)\n",
    "    \n",
    "    for i in domain:\n",
    "        sum_ = sum_ + f(i)\n",
    "    return [norm*(sum_/np.size(domain)),metropolis(N,d,ini)[1]]\n",
    "\n",
    "val = np.sqrt(2*np.pi) # analytical value of the integral.\n",
    "\n",
    "steps = [0.2,0.5,1,1.5,2]\n",
    "var = [[],[],[]]\n",
    "for i in steps:\n",
    "    v = met_int2(100000,i,0)\n",
    "    var[0].append(v[0])\n",
    "    var[1].append(v[1])\n",
    "    var[2].append(v[0]-val)\n",
    "plt.scatter(steps,var[0])\n",
    "plt.plot(steps,np.ones(5)*val)\n",
    "plt.xlabel('step size',fontsize=13)\n",
    "plt.ylabel('value of integral',fontsize = 13)"
   ]
  },
  {
   "cell_type": "code",
   "execution_count": 121,
   "metadata": {},
   "outputs": [
    {
     "data": {
      "text/plain": [
       "Text(0, 0.5, 'acceptance ratio, optimal = 0.5')"
      ]
     },
     "execution_count": 121,
     "metadata": {},
     "output_type": "execute_result"
    },
    {
     "data": {
      "image/png": "[encoded data removed]",
      "text/plain": [
       "<Figure size 432x288 with 1 Axes>"
      ]
     },
     "metadata": {
      "needs_background": "light"
     },
     "output_type": "display_data"
    }
   ],
   "source": [
    "plt.scatter(steps,var[1])\n",
    "plt.plot(steps,np.ones(5)*0.5)\n",
    "plt.xlabel('step size',fontsize=13)\n",
    "plt.ylabel('acceptance ratio, optimal = 0.5',fontsize = 13)"
   ]
  },
  {
   "cell_type": "code",
   "execution_count": 122,
   "metadata": {},
   "outputs": [
    {
     "data": {
      "text/plain": [
       "Text(0, 0.5, 'efficiency')"
      ]
     },
     "execution_count": 122,
     "metadata": {},
     "output_type": "execute_result"
    },
    {
     "data": {
      "image/png": "[encoded data removed]",
      "text/plain": [
       "<Figure size 432x288 with 1 Axes>"
      ]
     },
     "metadata": {
      "needs_background": "light"
     },
     "output_type": "display_data"
    }
   ],
   "source": [
    "plt.scatter(steps,var[2])\n",
    "plt.plot(steps,np.zeros(5))\n",
    "plt.xlabel('step size',fontsize=13)\n",
    "plt.ylabel('efficiency',fontsize = 13)"
   ]
  },
  {
   "cell_type": "code",
   "execution_count": 123,
   "metadata": {},
   "outputs": [
    {
     "data": {
      "text/plain": [
       "Text(0, 0.5, 'Auto correlation function')"
      ]
     },
     "execution_count": 123,
     "metadata": {},
     "output_type": "execute_result"
    },
    {
     "data": {
      "image/png": "[encoded data removed]",
      "text/plain": [
       "<Figure size 432x288 with 1 Axes>"
      ]
     },
     "metadata": {
      "needs_background": "light"
     },
     "output_type": "display_data"
    }
   ],
   "source": [
    "for i in steps:\n",
    "    auto_c(10000,i,0)\n",
    "plt.legend(steps)\n",
    "plt.xlabel('k',fontsize=13)\n",
    "plt.ylabel('Auto correlation function',fontsize = 13)"
   ]
  },
  {
   "cell_type": "markdown",
   "metadata": {},
   "source": [
    "From the above plots, it is clear that the algorithm is most efficient for step size = 1. The auto correlation function should steeply reduce to 0 for better accuracy."
   ]
  },
  {
   "cell_type": "markdown",
   "metadata": {},
   "source": [
    "Study of variation of initial position."
   ]
  },
  {
   "cell_type": "code",
   "execution_count": 9,
   "metadata": {},
   "outputs": [],
   "source": [
    "init = [-0.5,-0.2,0,0.4,0.7]\n",
    "var1 = [[],[],[]]\n",
    "for i in init:\n",
    "    v = met_int2(100000,1,i)\n",
    "    var1[0].append(v[0])\n",
    "    var1[1].append(v[1])\n",
    "    var1[2].append(v[0]-val)"
   ]
  },
  {
   "cell_type": "code",
   "execution_count": 10,
   "metadata": {},
   "outputs": [
    {
     "data": {
      "text/plain": [
       "Text(0, 0.5, 'value of integral')"
      ]
     },
     "execution_count": 10,
     "metadata": {},
     "output_type": "execute_result"
    },
    {
     "data": {
      "image/png": "[encoded data removed]",
      "text/plain": [
       "<Figure size 432x288 with 1 Axes>"
      ]
     },
     "metadata": {
      "needs_background": "light"
     },
     "output_type": "display_data"
    }
   ],
   "source": [
    "plt.scatter(init,var1[0])\n",
    "plt.plot(init,np.ones(5)*val)\n",
    "plt.xlabel('initial position',fontsize=13)\n",
    "plt.ylabel('value of integral',fontsize = 13)"
   ]
  },
  {
   "cell_type": "code",
   "execution_count": 12,
   "metadata": {},
   "outputs": [
    {
     "data": {
      "text/plain": [
       "Text(0, 0.5, 'acceptance ratio')"
      ]
     },
     "execution_count": 12,
     "metadata": {},
     "output_type": "execute_result"
    },
    {
     "data": {
      "image/png": "[encoded data removed]",
      "text/plain": [
       "<Figure size 432x288 with 1 Axes>"
      ]
     },
     "metadata": {
      "needs_background": "light"
     },
     "output_type": "display_data"
    }
   ],
   "source": [
    "plt.scatter(init,var1[1])\n",
    "plt.xlabel('initial position',fontsize=13)\n",
    "plt.ylabel('acceptance ratio',fontsize = 13)"
   ]
  },
  {
   "cell_type": "code",
   "execution_count": 13,
   "metadata": {},
   "outputs": [
    {
     "data": {
      "text/plain": [
       "Text(0, 0.5, 'efficiency')"
      ]
     },
     "execution_count": 13,
     "metadata": {},
     "output_type": "execute_result"
    },
    {
     "data": {
      "image/png": "[encoded data removed]",
      "text/plain": [
       "<Figure size 432x288 with 1 Axes>"
      ]
     },
     "metadata": {
      "needs_background": "light"
     },
     "output_type": "display_data"
    }
   ],
   "source": [
    "plt.scatter(init,var1[2])\n",
    "plt.plot(init,np.zeros(5))\n",
    "plt.xlabel('initial position',fontsize=13)\n",
    "plt.ylabel('efficiency',fontsize = 13)"
   ]
  },
  {
   "cell_type": "code",
   "execution_count": 14,
   "metadata": {},
   "outputs": [
    {
     "data": {
      "text/plain": [
       "Text(0, 0.5, 'Auto correlation function')"
      ]
     },
     "execution_count": 14,
     "metadata": {},
     "output_type": "execute_result"
    },
    {
     "data": {
      "image/png": "[encoded data removed]",
      "text/plain": [
       "<Figure size 432x288 with 1 Axes>"
      ]
     },
     "metadata": {
      "needs_background": "light"
     },
     "output_type": "display_data"
    }
   ],
   "source": [
    "for i in init:\n",
    "    auto_c(10000,1,i)\n",
    "plt.legend(init)\n",
    "plt.xlabel('k',fontsize=13)\n",
    "plt.ylabel('Auto correlation function',fontsize = 13)"
   ]
  },
  {
   "cell_type": "markdown",
   "metadata": {},
   "source": [
    "As shown by the above plots, the is not much variation with the initial position."
   ]
  },
  {
   "cell_type": "code",
   "execution_count": 91,
   "metadata": {},
   "outputs": [
    {
     "name": "stdout",
     "output_type": "stream",
     "text": [
      "Value of the integral is 2.6148280126242\n",
      "sigma_I is -0.06377347793578703\n"
     ]
    }
   ],
   "source": [
    "# Comparison with the method used in section 1 with w(x) = 1\n",
    "def func(x):\n",
    "    return (x**2)*np.e**(-(x**2)/2)\n",
    "\n",
    "# The range considered is -10 to 10 because beyond this the function rapidly goes to 0.\n",
    "print('Value of the integral is',int_w(-10,10,1000,func)[0])\n",
    "print('sigma_I is',int_w(-10,10,100,func)[1])"
   ]
  },
  {
   "cell_type": "code",
   "execution_count": 134,
   "metadata": {},
   "outputs": [
    {
     "data": {
      "text/html": [
       "<div>\n",
       "<style scoped>\n",
       "    .dataframe tbody tr th:only-of-type {\n",
       "        vertical-align: middle;\n",
       "    }\n",
       "\n",
       "    .dataframe tbody tr th {\n",
       "        vertical-align: top;\n",
       "    }\n",
       "\n",
       "    .dataframe thead th {\n",
       "        text-align: right;\n",
       "    }\n",
       "</style>\n",
       "<table border=\"1\" class=\"dataframe\">\n",
       "  <thead>\n",
       "    <tr style=\"text-align: right;\">\n",
       "      <th></th>\n",
       "      <th>N</th>\n",
       "      <th>Metropolis</th>\n",
       "      <th>MC, w(x) = 1</th>\n",
       "    </tr>\n",
       "  </thead>\n",
       "  <tbody>\n",
       "    <tr>\n",
       "      <th>0</th>\n",
       "      <td>1000.0</td>\n",
       "      <td>2.874735</td>\n",
       "      <td>2.345270</td>\n",
       "    </tr>\n",
       "    <tr>\n",
       "      <th>1</th>\n",
       "      <td>5000.0</td>\n",
       "      <td>2.364781</td>\n",
       "      <td>2.482526</td>\n",
       "    </tr>\n",
       "    <tr>\n",
       "      <th>2</th>\n",
       "      <td>10000.0</td>\n",
       "      <td>2.450987</td>\n",
       "      <td>2.525762</td>\n",
       "    </tr>\n",
       "    <tr>\n",
       "      <th>3</th>\n",
       "      <td>50000.0</td>\n",
       "      <td>2.478404</td>\n",
       "      <td>2.519708</td>\n",
       "    </tr>\n",
       "    <tr>\n",
       "      <th>4</th>\n",
       "      <td>100000.0</td>\n",
       "      <td>2.478930</td>\n",
       "      <td>2.496313</td>\n",
       "    </tr>\n",
       "    <tr>\n",
       "      <th>5</th>\n",
       "      <td>500000.0</td>\n",
       "      <td>2.494722</td>\n",
       "      <td>2.510159</td>\n",
       "    </tr>\n",
       "  </tbody>\n",
       "</table>\n",
       "</div>"
      ],
      "text/plain": [
       "          N  Metropolis  MC, w(x) = 1\n",
       "0    1000.0    2.874735      2.345270\n",
       "1    5000.0    2.364781      2.482526\n",
       "2   10000.0    2.450987      2.525762\n",
       "3   50000.0    2.478404      2.519708\n",
       "4  100000.0    2.478930      2.496313\n",
       "5  500000.0    2.494722      2.510159"
      ]
     },
     "execution_count": 134,
     "metadata": {},
     "output_type": "execute_result"
    }
   ],
   "source": [
    "# A comparison table for the 2 different methods varying N.\n",
    "comp = np.zeros((6,3))\n",
    "Ni = [1000,5000,10000,50000,100000,500000]\n",
    "for i in range(len(Ni)):\n",
    "    comp[i][0] = Ni[i]\n",
    "    comp[i][1] = met_int2(Ni[i],1,0)[0]\n",
    "    comp[i][2] = int_w(-10,10,Ni[i],func)[0]\n",
    "\n",
    "comp_pd=pd.DataFrame(comp,columns = [\"N\",\"Metropolis\",\"MC, w(x) = 1\"])\n",
    "comp_pd"
   ]
  },
  {
   "cell_type": "markdown",
   "metadata": {},
   "source": [
    "# Question 3 - Ising model\n",
    "\n",
    "The two dimensional Ising model will be analysed in this section considering a lattice of 20 $\\times$ 20 spins. It will be seen that there exists a phase transtion at a finite temperature where we will get a non-zero magnetization for 0 external field. The Hamiltonian for this system is\n",
    "$$H = -J \\sum_{\\alpha\\beta}S_{\\alpha}S_{\\beta} - B \\sum_{\\alpha}S_{\\alpha}$$\n",
    "The codes below are as follows:\n",
    "1. A 20 $\\times$ 20 lattice is created.\n",
    "2. A random initial starting configuration of spins is generated using the start_config function.\n",
    "3. The functions which will calculate the energy of the system (energy_config) and magnetization (Mag) given a configuration (S) are defined.\n",
    "4. The metropolis algorithm to find the next configuration is defined using the function MC_config. This function runs randomly over most of the lattice points 20 $\\times$ 20 to create a new spin configuration which is weighted by $\\omega(s) = \\frac{e^{-\\beta H(s)}}{Z}$. For metroplos algorithm, this gives,\n",
    "$$r=\\frac{e^{H_s}/Z}{e^{H}/Z} = e^{-2S_{\\alpha}(Jf+B)}$$\n",
    "5. Here, f is the sum of the spins of all the nearest neighbors.\n",
    "6. This was repeated 1000 times to thermalize and then 100 times again to calculate and plot the various quantities."
   ]
  },
  {
   "cell_type": "code",
   "execution_count": 22,
   "metadata": {},
   "outputs": [
    {
     "data": {
      "image/png": "[encoded data removed]",
      "text/plain": [
       "<Figure size 432x288 with 1 Axes>"
      ]
     },
     "metadata": {
      "needs_background": "light"
     },
     "output_type": "display_data"
    }
   ],
   "source": [
    "#Creating the 20*20 square lattice\n",
    "#xp and yp give the coordinates of the points\n",
    "xp = np.linspace(0,19,20)\n",
    "yp = np.linspace(0,19,20)\n",
    "for i in xp:\n",
    "    plt.scatter(np.ones(20)*i,yp,s=1,c='k')"
   ]
  },
  {
   "cell_type": "code",
   "execution_count": 23,
   "metadata": {},
   "outputs": [],
   "source": [
    "def start_config(d): # d = number of sites in one axis. here 20\n",
    "    #Randomly assigning spins to create the starting configuration\n",
    "    Si = np.zeros((d,d)) #creates a 20*20 array of 0.\n",
    "    for i in range(d):\n",
    "        for j in range(d):\n",
    "            t = np.random.uniform(0,1) #random number\n",
    "            if (t >= 0.5):\n",
    "                Si[i,j] = 1\n",
    "            elif (t < 0.5):\n",
    "                Si[i,j] = -1\n",
    "    return Si"
   ]
  },
  {
   "cell_type": "code",
   "execution_count": 24,
   "metadata": {},
   "outputs": [
    {
     "data": {
      "text/plain": [
       "8.0"
      ]
     },
     "execution_count": 24,
     "metadata": {},
     "output_type": "execute_result"
    }
   ],
   "source": [
    "np.sum(start_config(20))"
   ]
  },
  {
   "cell_type": "code",
   "execution_count": 25,
   "metadata": {},
   "outputs": [],
   "source": [
    "def energy_config(S,J,B): # This function returns the energy of the configuration\n",
    "    d = np.size(S[0])\n",
    "    d = int(d)\n",
    "    sum_ = 0\n",
    "    for i in range(d):\n",
    "        for j in range(d):\n",
    "            f = S[(i+1)%d,j] + S[(i-1)%d,j] + S[i,(j+1)%d] + S[i,(j-1)%d]\n",
    "            sum_ = sum_ + (-J*S[i,j]*f-B*S[i,j])\n",
    "    return sum_\n",
    "\n",
    "def Mag(S,J,B): # This function returns the magnetization\n",
    "    return np.sum(S)"
   ]
  },
  {
   "cell_type": "code",
   "execution_count": 74,
   "metadata": {},
   "outputs": [],
   "source": [
    "def MC_config(S,d,J,B,T): ''' Given a configuration this function returns a new configuration following the \n",
    "                             Metropolis algorithm'''\n",
    "    N = d*d\n",
    "    \n",
    "    for i in range(d):\n",
    "        for j in range(d):\n",
    "            # random site\n",
    "            a = np.random.randint(0,d)\n",
    "            b = np.random.randint(0,d)\n",
    "            \n",
    "            Sf = S[a,b]*(-1) #fliping\n",
    "            f = S[(a+1)%d,b] + S[(a-1)%d,b] + S[a,(b+1)%d] + S[a,(b-1)%d]\n",
    "            #r = np.e**((S[a,b]*(-2)*(J*f+B))/T)\n",
    "            c = 2*S[a,b]*(J*f+B)\n",
    "            if (c < 0): # Metroplis algorithm.\n",
    "                S[a,b] = Sf\n",
    "            elif (np.random.uniform(0,1) < np.e**(-c/T)):\n",
    "                S[a,b] = Sf\n",
    "        \n",
    "    return S"
   ]
  },
  {
   "cell_type": "code",
   "execution_count": 82,
   "metadata": {},
   "outputs": [],
   "source": [
    "Nth = 1000 # steps to thermalization\n",
    "Nmc = 1000 # steps of MC\n",
    "T = np.linspace(1.3, 3.3, 32)\n",
    "\n",
    "M, E, Cb, Chi = [],[],[],[]\n",
    "d = 20 # Size of one axis of the lattice\n",
    "\n",
    "for t in T:\n",
    "    S = start_config(d)\n",
    "    M1 = H1 = M2 = H2 = 0\n",
    "\n",
    "    for i in range(Nth): # To thermalize\n",
    "        MC_config(S,d,1,0,t)\n",
    "        \n",
    "    for i in range(Nmc): # MC steps. This simulation is done for J = 1 and B = 0.\n",
    "        MC_config(S,d,1,0,t)\n",
    "        mag = Mag(S,1,0)\n",
    "        e = energy_config(S,1,0)\n",
    "        \n",
    "        H1 = H1 + e\n",
    "        M1 = M1 + mag\n",
    "        M2 = M2 + mag**2\n",
    "        H2 = H2 + e**2\n",
    "        \n",
    "    M.append(np.abs(M1)/(Nmc*d*d))\n",
    "    E.append(H1/(Nmc*d*d))\n",
    "    Cb.append((H2/(Nmc*d*d) - (H1*H1)/(Nmc*Nmc*d*d))*(1/(t*t)))\n",
    "    Chi.append((M2/(Nmc*d*d) - (M1*M1)/(Nmc*Nmc*d*d))*(1/t))\n",
    "        "
   ]
  },
  {
   "cell_type": "code",
   "execution_count": 83,
   "metadata": {},
   "outputs": [
    {
     "data": {
      "text/plain": [
       "Text(0.5, 0, 'Temperature')"
      ]
     },
     "execution_count": 83,
     "metadata": {},
     "output_type": "execute_result"
    },
    {
     "data": {
      "image/png": "[encoded data removed]",
      "text/plain": [
       "<Figure size 432x288 with 1 Axes>"
      ]
     },
     "metadata": {
      "needs_background": "light"
     },
     "output_type": "display_data"
    }
   ],
   "source": [
    "plt.scatter(T,Chi)\n",
    "plt.ylabel('Susceptibility ($\\chi$)',fontsize = 15)\n",
    "plt.xlabel('Temperature',fontsize = 15)"
   ]
  },
  {
   "cell_type": "code",
   "execution_count": 84,
   "metadata": {},
   "outputs": [
    {
     "data": {
      "text/plain": [
       "Text(0.5, 0, 'Temperature')"
      ]
     },
     "execution_count": 84,
     "metadata": {},
     "output_type": "execute_result"
    },
    {
     "data": {
      "image/png": "[encoded data removed]",
      "text/plain": [
       "<Figure size 432x288 with 1 Axes>"
      ]
     },
     "metadata": {
      "needs_background": "light"
     },
     "output_type": "display_data"
    }
   ],
   "source": [
    "plt.scatter(T,M)\n",
    "plt.ylabel('Magnetization',fontsize = 15)\n",
    "plt.xlabel('Temperature',fontsize = 15)"
   ]
  },
  {
   "cell_type": "code",
   "execution_count": 85,
   "metadata": {},
   "outputs": [
    {
     "data": {
      "text/plain": [
       "Text(0.5, 0, 'Temperature')"
      ]
     },
     "execution_count": 85,
     "metadata": {},
     "output_type": "execute_result"
    },
    {
     "data": {
      "image/png": "[encoded data removed]",
      "text/plain": [
       "<Figure size 432x288 with 1 Axes>"
      ]
     },
     "metadata": {
      "needs_background": "light"
     },
     "output_type": "display_data"
    }
   ],
   "source": [
    "plt.scatter(T,Cb)\n",
    "plt.ylabel('Specific heat',fontsize = 15)\n",
    "plt.xlabel('Temperature',fontsize = 15)"
   ]
  },
  {
   "cell_type": "code",
   "execution_count": 86,
   "metadata": {},
   "outputs": [
    {
     "data": {
      "text/plain": [
       "Text(0.5, 0, 'Temperature')"
      ]
     },
     "execution_count": 86,
     "metadata": {},
     "output_type": "execute_result"
    },
    {
     "data": {
      "image/png": "[encoded data removed]",
      "text/plain": [
       "<Figure size 432x288 with 1 Axes>"
      ]
     },
     "metadata": {
      "needs_background": "light"
     },
     "output_type": "display_data"
    }
   ],
   "source": [
    "plt.scatter(T,E)\n",
    "plt.ylabel('Energy',fontsize = 15)\n",
    "plt.xlabel('Temperature',fontsize = 15)"
   ]
  },
  {
   "cell_type": "markdown",
   "metadata": {},
   "source": [
    "In all the above plots, the divergence of susceptibility and specific heat and the appearence of non zero magnetization for 0 external field shows that this system undergoes a phase transition and the transition temperature is where these functions diverge or magnetization becomes non zero. From the above plots, $T_c$ can be guessed to be around 2.25 to 2.5 in units where $k_B$ = 1."
   ]
  },
  {
   "cell_type": "markdown",
   "metadata": {},
   "source": [
    "Now and external magnetic field will be turned on and the same functions will be plotted. B = 1. This is done for a 10 $\\times$ 10 lattice."
   ]
  },
  {
   "cell_type": "code",
   "execution_count": 75,
   "metadata": {},
   "outputs": [],
   "source": [
    "# Considering B = 1 and J = 1 and 10*10 lattice\n",
    "Nth = 1000 # steps to thermalization\n",
    "Nmc = 1000 # steps of MC\n",
    "T = np.linspace(1.3, 9, 40)\n",
    "\n",
    "M, E, Cb, Chi = [],[],[],[]\n",
    "d = 10\n",
    "\n",
    "for t in T:\n",
    "    S = start_config(10)\n",
    "    M1 = H1 = M2 = H2 = 0\n",
    "\n",
    "    for i in range(Nth): # To thermalize\n",
    "        MC_config(S,10,1,1,t)\n",
    "        \n",
    "    for i in range(Nmc): # MC steps. This simulation is done for J = 1 and B = 0.\n",
    "        MC_config(S,10,1,1,t)\n",
    "        mag = Mag(S,1,1)\n",
    "        e = energy_config(S,1,1)\n",
    "        \n",
    "        H1 = H1 + e\n",
    "        M1 = M1 + mag\n",
    "        M2 = M2 + mag**2\n",
    "        H2 = H2 + e**2\n",
    "        \n",
    "    M.append(np.abs(M1)/(Nmc*d*d))\n",
    "    E.append(H1/(Nmc*d*d))\n",
    "    Cb.append((H2/(Nmc*d*d) - (H1*H1)/(Nmc*Nmc*d*d))*(1/(t*t)))\n",
    "    Chi.append((M2/(Nmc*d*d) - (M1*M1)/(Nmc*Nmc*d*d))*(1/t))\n",
    "        "
   ]
  },
  {
   "cell_type": "code",
   "execution_count": 76,
   "metadata": {},
   "outputs": [
    {
     "data": {
      "text/plain": [
       "Text(0.5, 0, 'Temperature')"
      ]
     },
     "execution_count": 76,
     "metadata": {},
     "output_type": "execute_result"
    },
    {
     "data": {
      "image/png": "[encoded data removed]",
      "text/plain": [
       "<Figure size 432x288 with 1 Axes>"
      ]
     },
     "metadata": {
      "needs_background": "light"
     },
     "output_type": "display_data"
    }
   ],
   "source": [
    "plt.scatter(T,Chi)\n",
    "plt.ylabel('Susceptibility ($\\chi$)',fontsize = 15)\n",
    "plt.xlabel('Temperature',fontsize = 15)"
   ]
  },
  {
   "cell_type": "code",
   "execution_count": 77,
   "metadata": {},
   "outputs": [
    {
     "data": {
      "text/plain": [
       "Text(0.5, 0, 'Temperature')"
      ]
     },
     "execution_count": 77,
     "metadata": {},
     "output_type": "execute_result"
    },
    {
     "data": {
      "image/png": "[encoded data removed]",
      "text/plain": [
       "<Figure size 432x288 with 1 Axes>"
      ]
     },
     "metadata": {
      "needs_background": "light"
     },
     "output_type": "display_data"
    }
   ],
   "source": [
    "plt.scatter(T,M)\n",
    "plt.ylabel('Magnetization',fontsize = 15)\n",
    "plt.xlabel('Temperature',fontsize = 15)"
   ]
  },
  {
   "cell_type": "code",
   "execution_count": 78,
   "metadata": {},
   "outputs": [
    {
     "data": {
      "text/plain": [
       "Text(0.5, 0, 'Temperature')"
      ]
     },
     "execution_count": 78,
     "metadata": {},
     "output_type": "execute_result"
    },
    {
     "data": {
      "image/png": "[encoded data removed]",
      "text/plain": [
       "<Figure size 432x288 with 1 Axes>"
      ]
     },
     "metadata": {
      "needs_background": "light"
     },
     "output_type": "display_data"
    }
   ],
   "source": [
    "plt.scatter(T,Cb)\n",
    "plt.ylabel('Specific heat',fontsize = 15)\n",
    "plt.xlabel('Temperature',fontsize = 15)"
   ]
  },
  {
   "cell_type": "code",
   "execution_count": 79,
   "metadata": {},
   "outputs": [
    {
     "data": {
      "text/plain": [
       "Text(0.5, 0, 'Temperature')"
      ]
     },
     "execution_count": 79,
     "metadata": {},
     "output_type": "execute_result"
    },
    {
     "data": {
      "image/png": "[encoded data removed]",
      "text/plain": [
       "<Figure size 432x288 with 1 Axes>"
      ]
     },
     "metadata": {
      "needs_background": "light"
     },
     "output_type": "display_data"
    }
   ],
   "source": [
    "plt.scatter(T,E)\n",
    "plt.ylabel('Energy',fontsize = 15)\n",
    "plt.xlabel('Temperature',fontsize = 15)"
   ]
  },
  {
   "cell_type": "markdown",
   "metadata": {},
   "source": [
    "Study of phase transition. The analytically found transition temperature for this model is 1/$\\beta$ where $\\beta$ = 2.269. At this critical temperature, starting from a random configuration, 1000 MC steps will be computed to find the final configuration to check for transition."
   ]
  },
  {
   "cell_type": "code",
   "execution_count": 136,
   "metadata": {},
   "outputs": [
    {
     "name": "stdout",
     "output_type": "stream",
     "text": [
      "[[-1.  1. -1.  1. -1. -1.  1. -1. -1.  1.]\n",
      " [-1. -1. -1. -1. -1. -1. -1.  1. -1.  1.]\n",
      " [-1. -1. -1.  1. -1.  1.  1. -1. -1. -1.]\n",
      " [ 1. -1.  1. -1.  1. -1.  1.  1.  1. -1.]\n",
      " [ 1. -1. -1. -1.  1. -1.  1.  1.  1.  1.]\n",
      " [ 1.  1.  1. -1. -1. -1.  1. -1. -1. -1.]\n",
      " [ 1. -1. -1. -1. -1.  1.  1.  1.  1.  1.]\n",
      " [-1. -1.  1. -1. -1.  1. -1. -1.  1.  1.]\n",
      " [-1.  1.  1.  1.  1.  1.  1.  1. -1. -1.]\n",
      " [-1.  1.  1.  1. -1. -1. -1.  1. -1.  1.]]\n",
      "[[1. 1. 1. 1. 1. 1. 1. 1. 1. 1.]\n",
      " [1. 1. 1. 1. 1. 1. 1. 1. 1. 1.]\n",
      " [1. 1. 1. 1. 1. 1. 1. 1. 1. 1.]\n",
      " [1. 1. 1. 1. 1. 1. 1. 1. 1. 1.]\n",
      " [1. 1. 1. 1. 1. 1. 1. 1. 1. 1.]\n",
      " [1. 1. 1. 1. 1. 1. 1. 1. 1. 1.]\n",
      " [1. 1. 1. 1. 1. 1. 1. 1. 1. 1.]\n",
      " [1. 1. 1. 1. 1. 1. 1. 1. 1. 1.]\n",
      " [1. 1. 1. 1. 1. 1. 1. 1. 1. 1.]\n",
      " [1. 1. 1. 1. 1. 1. 1. 1. 1. 1.]]\n"
     ]
    }
   ],
   "source": [
    "S = start_config(10)\n",
    "T = 1/2.269\n",
    "print(S)\n",
    "for i in range(1000):\n",
    "    S = MC_config(S,10,1,0,T)\n",
    "print(S)"
   ]
  },
  {
   "cell_type": "markdown",
   "metadata": {},
   "source": [
    "Above gives the initial random spin configuration (10 $\\times$ 10) and the configuration after 1000 MC steps. We see that all spins get aligned. This shows that a transition occurs in this model at the analytically found value of $T_c$. This is done for B = 0."
   ]
  },
  {
   "cell_type": "code",
   "execution_count": null,
   "metadata": {},
   "outputs": [],
   "source": []
  }
 ],
 "metadata": {
  "kernelspec": {
   "display_name": "Python 3",
   "language": "python",
   "name": "python3"
  },
  "language_info": {
   "codemirror_mode": {
    "name": "ipython",
    "version": 3
   },
   "file_extension": ".py",
   "mimetype": "text/x-python",
   "name": "python",
   "nbconvert_exporter": "python",
   "pygments_lexer": "ipython3",
   "version": "3.9.1"
  }
 },
 "nbformat": 4,
 "nbformat_minor": 4
}
