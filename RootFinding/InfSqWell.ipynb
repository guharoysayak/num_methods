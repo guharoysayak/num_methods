{
 "cells": [
  {
   "cell_type": "code",
   "execution_count": 2,
   "metadata": {},
   "outputs": [],
   "source": [
    "import numpy as np\n",
    "import matplotlib.pyplot as plt\n",
    "%matplotlib inline"
   ]
  },
  {
   "cell_type": "markdown",
   "metadata": {},
   "source": [
    "# Solving the problem analytically."
   ]
  },
  {
   "cell_type": "markdown",
   "metadata": {},
   "source": [
    "The problem at hand is a finite square well such that\n",
    "$V(x) = -V_0$ when $-a$ < $x$ < $a$ and $0$ otherwise. This can be seen by the following plot of the potential."
   ]
  },
  {
   "cell_type": "code",
   "execution_count": 18,
   "metadata": {},
   "outputs": [
    {
     "data": {
      "text/plain": [
       "Text(5.1, -10, '$-V_0$')"
      ]
     },
     "execution_count": 18,
     "metadata": {},
     "output_type": "execute_result"
    },
    {
     "data": {
      "image/png": "[encoded data removed]",
      "text/plain": [
       "<Figure size 432x288 with 1 Axes>"
      ]
     },
     "metadata": {
      "needs_background": "light"
     },
     "output_type": "display_data"
    }
   ],
   "source": [
    "#Plot potential\n",
    "plt.plot(np.linspace(-5,5,10),np.ones(10)*(-10),'k')\n",
    "plt.plot(np.linspace(-10,10,10),np.zeros(10),'0.5')\n",
    "plt.plot(np.zeros(10),np.linspace(-10,10,10),'0.5')\n",
    "plt.plot(np.ones(10)*(-5),np.linspace(-10,0,10),'k')\n",
    "plt.plot(np.ones(10)*(5),np.linspace(-10,0,10),'k')\n",
    "plt.plot(np.linspace(-10,-5,10),np.zeros(10),'k')\n",
    "plt.plot(np.linspace(5,10,10),np.zeros(10),'k')\n",
    "plt.text(-1.6,8,'$V(x)$')\n",
    "plt.text(9,-1,'x')\n",
    "plt.text(5.1,-10,'$-V_0$')"
   ]
  },
  {
   "cell_type": "markdown",
   "metadata": {},
   "source": [
    "Solving the Schrodinger equation, we get the wavefunction in the 3 regions as follows.\n",
    "\\begin{equation}\n",
    "\\psi_I = D e^{\\beta x}\n",
    "\\end{equation}\n",
    "$$\\psi_{II} = A\\cos(\\alpha x) + B \\sin (\\alpha x)$$\n",
    "$$\\psi_{III} = F e^{-\\beta x}$$\n",
    "Here, $\\beta$ = $\\sqrt{\\frac{-2mE}{\\hbar^2}}$ and $\\alpha$ = $\\sqrt{\\frac{2m(V_0+E)}{\\hbar^2}}$\\\\\n",
    "After applying the boundary conditions, we get two sets of solutions for even and odd parity which can be obtained by solvind the following equations."
   ]
  },
  {
   "cell_type": "markdown",
   "metadata": {},
   "source": [
    "# Even parity states"
   ]
  },
  {
   "cell_type": "markdown",
   "metadata": {},
   "source": [
    "After applying the boundary conditions, we get,\n",
    "$$De^{-\\beta a} = A\\cos(\\alpha a) = Fe^{-\\beta a}$$\n",
    "$$D\\beta e^{-\\beta a} = A\\alpha \\sin(\\alpha a) = F\\beta e^{-\\beta a}$$\n",
    "From these two equaitons, we get $D=F$ and,\n",
    "$$\\alpha \\sin(\\alpha a) - \\beta \\cos(\\alpha a) = 0$$\n",
    "This equation needs to be solved in order to get the energy eigenstates which have even parity."
   ]
  },
  {
   "cell_type": "markdown",
   "metadata": {},
   "source": [
    "# Odd parity states"
   ]
  },
  {
   "cell_type": "markdown",
   "metadata": {},
   "source": [
    "After applying the boundary conditions, we get,\n",
    "$$De^{-\\beta a} = -B\\sin(\\alpha a) = -Fe^{-\\beta a}$$\n",
    "$$D\\beta e^{-\\beta a} = B\\alpha \\cos(\\alpha a) = -F\\beta e^{-\\beta a}$$\n",
    "From these two equaitons, we get $D=-F$ and,\n",
    "$$\\beta \\sin(\\alpha a) + \\alpha \\cos(\\alpha a) = 0$$\n",
    "This equation needs to be solved in order to get the energy eigenstates which have odd parity."
   ]
  },
  {
   "cell_type": "markdown",
   "metadata": {},
   "source": [
    "Considering the mass of electron, we get the value of $\\frac{2m}{\\hbar^2}$ = 0.262 in units involving eV and angstrom. The problem will be solved for 2a = 10 angstrom and $V_0$ = 10eV"
   ]
  },
  {
   "cell_type": "code",
   "execution_count": 95,
   "metadata": {},
   "outputs": [],
   "source": [
    "#defining beta and alpha.\n",
    "def beta(E):\n",
    "    return np.sqrt(-0.262*E)\n",
    "\n",
    "def alpha(V_0,E):\n",
    "    return np.sqrt(0.262*(V_0+E))"
   ]
  },
  {
   "cell_type": "code",
   "execution_count": 96,
   "metadata": {},
   "outputs": [],
   "source": [
    "#defining the necessary equations to be solved.\n",
    "def even_states(a,V_0,E):\n",
    "    return alpha(V_0,E)*np.sin(alpha(V_0,E)*a) - beta(E)*np.cos(alpha(V_0,E)*a)\n",
    "\n",
    "def odd_states(a,V_0,E):\n",
    "    return beta(E)*np.sin(alpha(V_0,E)*a) + alpha(V_0,E)*np.cos(alpha(V_0,E)*a)"
   ]
  },
  {
   "cell_type": "code",
   "execution_count": 97,
   "metadata": {},
   "outputs": [],
   "source": [
    "#Plotting the function (even)\n",
    "def plot_even(a,V_0):\n",
    "    x = np.linspace(-V_0,0,100)\n",
    "    y=[]\n",
    "    for i in x:\n",
    "        y.append(even_states(a,V_0,i))\n",
    "    plt.plot(x,y)\n",
    "    plt.plot(x,np.zeros(100),'k')"
   ]
  },
  {
   "cell_type": "code",
   "execution_count": 98,
   "metadata": {},
   "outputs": [],
   "source": [
    "#Plotting the function (odd)\n",
    "def plot_odd(a,V_0):\n",
    "    x = np.linspace(-V_0,0,100)\n",
    "    y=[]\n",
    "    for i in x:\n",
    "        y.append(odd_states(a,V_0,i))\n",
    "    plt.plot(x,y)\n",
    "    plt.plot(x,np.zeros(100),'k')"
   ]
  },
  {
   "cell_type": "code",
   "execution_count": 99,
   "metadata": {},
   "outputs": [
    {
     "data": {
      "image/png": "[encoded data removed]",
      "text/plain": [
       "<Figure size 432x288 with 1 Axes>"
      ]
     },
     "metadata": {
      "needs_background": "light"
     },
     "output_type": "display_data"
    }
   ],
   "source": [
    "plot_even(5,10)"
   ]
  },
  {
   "cell_type": "code",
   "execution_count": 100,
   "metadata": {},
   "outputs": [
    {
     "data": {
      "image/png": "[encoded data removed]",
      "text/plain": [
       "<Figure size 432x288 with 1 Axes>"
      ]
     },
     "metadata": {
      "needs_background": "light"
     },
     "output_type": "display_data"
    }
   ],
   "source": [
    "plot_odd(5,10)"
   ]
  },
  {
   "cell_type": "markdown",
   "metadata": {},
   "source": [
    "From the above plots, it is clear that there are total 6 bound states for the problem. The trivial E = -10eV solution is neglected as it gives no wavefunction."
   ]
  },
  {
   "cell_type": "markdown",
   "metadata": {},
   "source": [
    "These plots are only for the initial conditions 2a = 10A and height = 10eV. In order to find the ranges of the roots for any initial condition, the range finding algorithm made in the first classwork is used but instead of using integer ranges, ranges of arbitrary size of our choice are used in order to account for the fact that there can be more than one roots in a partcular interval. Hence, the size of the intervals are shortened. Using the following code for finding the range, we can find the solution for any initial condition provided the conditions are not far off in order from the given ones."
   ]
  },
  {
   "cell_type": "code",
   "execution_count": 26,
   "metadata": {},
   "outputs": [],
   "source": [
    "def root_range(func,a,V_0):\n",
    "    #the root range somewhat behaves like this with a.\n",
    "    ran = np.linspace(-V_0,0,a*10*V_0+1)\n",
    "    \n",
    "    Energy_levels=[]\n",
    "    ranges=[]\n",
    "    for i in range(len(ran)-1):\n",
    "        if (func(a,V_0,ran[i]) == 0):\n",
    "            Energy_levels.append(ran[i])\n",
    "        if (func(a,V_0,ran[i+1]) == 0):\n",
    "            Energy_levels.append(ran[i+1])\n",
    "        if (func(a,V_0,ran[i])*func(a,V_0,ran[i+1]) < 0):\n",
    "            ranges.append([ran[i],ran[i+1]])\n",
    "        \n",
    "            \n",
    "    return [ranges,Energy_levels]"
   ]
  },
  {
   "cell_type": "code",
   "execution_count": 27,
   "metadata": {},
   "outputs": [
    {
     "data": {
      "text/plain": [
       "[[[-9.72, -9.7], [-7.359999999999999, -7.34], [-2.8599999999999994, -2.84]],\n",
       " []]"
      ]
     },
     "execution_count": 27,
     "metadata": {},
     "output_type": "execute_result"
    }
   ],
   "source": [
    "root_range(even_states,5,10)"
   ]
  },
  {
   "cell_type": "code",
   "execution_count": 28,
   "metadata": {},
   "outputs": [],
   "source": [
    "#This is a bisection code to find all the solutions.\n",
    "def bisection(func,a,V_0,tol):\n",
    "    roots=[]\n",
    "    for i in root_range(func,a,V_0)[0]:\n",
    "        r1 = i[0]\n",
    "        r2 = i[1]\n",
    "        c=(r1+r2)/2\n",
    "        \n",
    "        while (True):\n",
    "            if (func(a,V_0,r1)*func(a,V_0,r2) > 0):\n",
    "                print ('please give a corrrect range')\n",
    "                break\n",
    "            else:\n",
    "                c=(r1+r2)/2\n",
    "                temp_f = func(a,V_0,c)\n",
    "                if (np.abs(temp_f) < tol): #tolerace is automatically set by the program\n",
    "                    res = c\n",
    "                    roots.append(res)\n",
    "                    break\n",
    "                else:\n",
    "                    if (temp_f*func(a,V_0,r2) < 0):\n",
    "                        r1=c\n",
    "                    elif (temp_f*func(a,V_0,r1) < 0):\n",
    "                        r2=c\n",
    "            \n",
    "        \n",
    "    return roots"
   ]
  },
  {
   "cell_type": "code",
   "execution_count": 29,
   "metadata": {},
   "outputs": [],
   "source": [
    "#This code finds all the eigenvalues.\n",
    "Energy_levels = bisection(odd_states,5,10,0.0000000000001)+bisection(even_states,5,10,0.0000000000001)"
   ]
  },
  {
   "cell_type": "code",
   "execution_count": 30,
   "metadata": {},
   "outputs": [],
   "source": [
    "Energy_levels = np.sort(np.array(Energy_levels))"
   ]
  },
  {
   "cell_type": "markdown",
   "metadata": {},
   "source": [
    "# Energy eigenvalues"
   ]
  },
  {
   "cell_type": "code",
   "execution_count": 32,
   "metadata": {},
   "outputs": [
    {
     "data": {
      "text/plain": [
       "array([-9.70192558, -8.81186049, -7.34398936, -5.32982086, -2.84506241,\n",
       "       -0.2211095 ])"
      ]
     },
     "execution_count": 32,
     "metadata": {},
     "output_type": "execute_result"
    }
   ],
   "source": [
    "#This includes both even and odd states.\n",
    "Energy_levels"
   ]
  },
  {
   "cell_type": "code",
   "execution_count": 33,
   "metadata": {},
   "outputs": [],
   "source": [
    "#These variables differentiate the even and odd states\n",
    "even_levels = np.array(bisection(even_states,5,10,0.0000000000001))\n",
    "odd_levels = np.array(bisection(odd_states,5,10,0.0000000000001))"
   ]
  },
  {
   "cell_type": "markdown",
   "metadata": {},
   "source": [
    "# Wavefunctions"
   ]
  },
  {
   "cell_type": "markdown",
   "metadata": {},
   "source": [
    "In order to find the wavefunctions we have to use the boundary condition equations and then normalise in order to find the values of A,B,C,D,F. We have to use the bisection code again."
   ]
  },
  {
   "cell_type": "markdown",
   "metadata": {},
   "source": [
    "For even states, from the formula given above, we have\n",
    "$$D = Ae^{\\beta a}\\cos{\\alpha a}$$\n",
    "After normalising the wavefunction analytically, we get,\n",
    "$$\\frac{D^2}{\\beta}e^{2\\beta a}+A^2a+\\frac{A^2}{2\\alpha}\\sin(2\\alpha a)$$\n",
    "By solving the above equation, we can get the wavefunction for the even states.\n"
   ]
  },
  {
   "cell_type": "markdown",
   "metadata": {},
   "source": [
    "For odd states, from the formula given above, we have\n",
    "$$D = -Be^{\\beta a}\\sin{\\alpha a}$$\n",
    "After normalising the wavefunction analytically, we get,\n",
    "$$\\frac{D^2}{\\beta}e^{2\\beta a}+B^2a-\\frac{B^2}{2\\alpha}\\sin(2\\alpha a)$$\n",
    "By solving the above equation, we can get the wavefunction for the odd states."
   ]
  },
  {
   "cell_type": "markdown",
   "metadata": {},
   "source": [
    "# Even states"
   ]
  },
  {
   "cell_type": "code",
   "execution_count": 68,
   "metadata": {},
   "outputs": [],
   "source": [
    "#beta and alpha\n",
    "a1=[]\n",
    "b1=[]\n",
    "for i in range(len(even_levels)):\n",
    "    a1.append(alpha(10,even_levels[i]))\n",
    "    b1.append(beta(even_levels[i]))\n",
    "a1=np.array(a1)\n",
    "b1=np.array(b1)\n",
    "#There are 3 different energy levels. These array contains all the values of alpha and beta"
   ]
  },
  {
   "cell_type": "code",
   "execution_count": 69,
   "metadata": {},
   "outputs": [],
   "source": [
    "def norm_even(a,A,ind):\n",
    "    D = A*np.e**(b1[ind]*a)*np.cos(a1[ind]*a)\n",
    "    return (D**2/b1[ind])*np.e**(-2*b1[ind]*a)+(A**2)*a+(A**2/(2*a1[ind]))*np.sin(2*a1[ind]*a)-1\n",
    "\n",
    "\n",
    "def bisection_norm(func,a,ind,tol):\n",
    "    ap=0\n",
    "    bp=1\n",
    "    while (1==1):\n",
    "        if (func(a,ap,ind)*func(a,bp,ind) > 0):\n",
    "            print ('please give a corrrect range')\n",
    "            break\n",
    "        else:\n",
    "            c=(ap+bp)/2\n",
    "            temp_f = func(a,c,ind)\n",
    "            if (np.abs(temp_f) < tol): \n",
    "                res = c\n",
    "                break\n",
    "            else:\n",
    "                if (temp_f*func(a,bp,ind) < 0):\n",
    "                    ap=c\n",
    "                elif (temp_f*func(a,ap,ind) < 0):\n",
    "                    bp=c\n",
    "    if (func(a,ap,ind)*func(a,bp,ind) < 0):\n",
    "        return res"
   ]
  },
  {
   "cell_type": "code",
   "execution_count": 70,
   "metadata": {},
   "outputs": [],
   "source": [
    "#To find the value of A using bisection method.\n",
    "A=[]\n",
    "for i in range(len(even_levels)):\n",
    "    A.append(bisection_norm(norm_even,5,i,0.000000000000001))\n",
    "A=np.array(A)\n",
    "D=A*(np.e**(b1*5))*np.cos(a1*5)"
   ]
  },
  {
   "cell_type": "code",
   "execution_count": 71,
   "metadata": {},
   "outputs": [
    {
     "data": {
      "text/plain": [
       "array([ 210.89686494, -221.56097301,   25.54797752])"
      ]
     },
     "execution_count": 71,
     "metadata": {},
     "output_type": "execute_result"
    }
   ],
   "source": [
    "D"
   ]
  },
  {
   "cell_type": "code",
   "execution_count": 72,
   "metadata": {},
   "outputs": [],
   "source": [
    "#wavefunction definition\n",
    "def psi1(x,ind):\n",
    "    return D[ind]*np.e**(b1[ind]*x)\n",
    "\n",
    "def psi2(x,ind):\n",
    "    return A[ind]*np.cos(a1[ind]*x)\n",
    "\n",
    "def psi3(x,ind):\n",
    "    return D[ind]*np.e**(-b1[ind]*x)"
   ]
  },
  {
   "cell_type": "code",
   "execution_count": 73,
   "metadata": {},
   "outputs": [],
   "source": [
    "#plotting the wavefunction\n",
    "def evenfunction(ind):\n",
    "    x1=np.linspace(-10,-5,50)\n",
    "    x2=np.linspace(-5,5,50)\n",
    "    x3=np.linspace(5,10,50)\n",
    "    y1=[]\n",
    "    y2=[]\n",
    "    y3=[]\n",
    "    for i in x1:\n",
    "        y1.append(psi1(i,ind))\n",
    "    for j in x2:\n",
    "        y2.append(psi2(j,ind))\n",
    "    for k in x3:\n",
    "        y3.append(psi3(k,ind))\n",
    "    plt.plot(x1,y1,'k')\n",
    "    plt.plot(x2,y2,'k')\n",
    "    plt.plot(x3,y3,'k')\n",
    "    plt.xlabel('x')\n",
    "    plt.ylabel('$\\psi(x)$ even')\n",
    "    return even_levels[ind]"
   ]
  },
  {
   "cell_type": "code",
   "execution_count": 74,
   "metadata": {},
   "outputs": [
    {
     "data": {
      "text/plain": [
       "-9.70192557746239"
      ]
     },
     "execution_count": 74,
     "metadata": {},
     "output_type": "execute_result"
    },
    {
     "data": {
      "image/png": "[encoded data removed]",
      "text/plain": [
       "<Figure size 432x288 with 1 Axes>"
      ]
     },
     "metadata": {
      "needs_background": "light"
     },
     "output_type": "display_data"
    }
   ],
   "source": [
    "#This plots the wavefunction and gives the eigenvalue in units of eV.\n",
    "evenfunction(0)"
   ]
  },
  {
   "cell_type": "code",
   "execution_count": 75,
   "metadata": {},
   "outputs": [
    {
     "data": {
      "text/plain": [
       "-7.343989360570703"
      ]
     },
     "execution_count": 75,
     "metadata": {},
     "output_type": "execute_result"
    },
    {
     "data": {
      "image/png": "[encoded data removed]",
      "text/plain": [
       "<Figure size 432x288 with 1 Axes>"
      ]
     },
     "metadata": {
      "needs_background": "light"
     },
     "output_type": "display_data"
    }
   ],
   "source": [
    "evenfunction(1)"
   ]
  },
  {
   "cell_type": "code",
   "execution_count": 76,
   "metadata": {},
   "outputs": [
    {
     "data": {
      "text/plain": [
       "-2.8450624073395736"
      ]
     },
     "execution_count": 76,
     "metadata": {},
     "output_type": "execute_result"
    },
    {
     "data": {
      "image/png": "[encoded data removed]",
      "text/plain": [
       "<Figure size 432x288 with 1 Axes>"
      ]
     },
     "metadata": {
      "needs_background": "light"
     },
     "output_type": "display_data"
    }
   ],
   "source": [
    "evenfunction(2)"
   ]
  },
  {
   "cell_type": "markdown",
   "metadata": {},
   "source": [
    "# Odd states"
   ]
  },
  {
   "cell_type": "code",
   "execution_count": 77,
   "metadata": {},
   "outputs": [],
   "source": [
    "#beta and alpha\n",
    "a2=[]\n",
    "b2=[]\n",
    "for i in range(len(odd_levels)):\n",
    "    a2.append(alpha(10,odd_levels[i]))\n",
    "    b2.append(beta(odd_levels[i]))\n",
    "a2=np.array(a2)\n",
    "b2=np.array(b2)\n",
    "#There are 3 different energy levels. These array contains all the values of alpha and beta"
   ]
  },
  {
   "cell_type": "code",
   "execution_count": 78,
   "metadata": {},
   "outputs": [],
   "source": [
    "def norm_odd(a,B,ind):\n",
    "    D = -B*np.e**(b2[ind]*a)*np.sin(a2[ind]*a)\n",
    "    return (D**2/b2[ind])*np.e**(-2*b2[ind]*a)+(B**2)*a-(B**2/(2*a2[ind]))*np.sin(2*a2[ind]*a)-1"
   ]
  },
  {
   "cell_type": "code",
   "execution_count": 79,
   "metadata": {},
   "outputs": [],
   "source": [
    "#To find the value of A using bisection method.\n",
    "B=[]\n",
    "for i in range(len(even_levels)):\n",
    "    B.append(bisection_norm(norm_even,5,i,0.000000000000001))\n",
    "B=np.array(B)\n",
    "D=-B*np.e**(b2*5)*np.sin(a2*5)"
   ]
  },
  {
   "cell_type": "code",
   "execution_count": 80,
   "metadata": {},
   "outputs": [
    {
     "data": {
      "text/plain": [
       "array([-289.54468399,  105.1868229 ,   -1.32758785])"
      ]
     },
     "execution_count": 80,
     "metadata": {},
     "output_type": "execute_result"
    }
   ],
   "source": [
    "D"
   ]
  },
  {
   "cell_type": "code",
   "execution_count": 81,
   "metadata": {},
   "outputs": [],
   "source": [
    "#wavefunction definition (odd)\n",
    "def psi1o(x,ind):\n",
    "    return D[ind]*np.e**(b2[ind]*x)\n",
    "\n",
    "def psi2o(x,ind):\n",
    "    return B[ind]*np.sin(a2[ind]*x)\n",
    "\n",
    "def psi3o(x,ind):\n",
    "    return -D[ind]*np.e**(-b2[ind]*x)"
   ]
  },
  {
   "cell_type": "code",
   "execution_count": 84,
   "metadata": {},
   "outputs": [],
   "source": [
    "#plotting the wavefunction\n",
    "def oddfunction(ind):\n",
    "    x1=np.linspace(-10,-5,50)\n",
    "    x2=np.linspace(-5,5,50)\n",
    "    x3=np.linspace(5,10,50)\n",
    "    y1=[]\n",
    "    y2=[]\n",
    "    y3=[]\n",
    "    for i in x1:\n",
    "        y1.append(psi1o(i,ind))\n",
    "    for j in x2:\n",
    "        y2.append(psi2o(j,ind))\n",
    "    for k in x3:\n",
    "        y3.append(psi3o(k,ind))\n",
    "    plt.plot(x1,y1,'k')\n",
    "    plt.plot(x2,y2,'k')\n",
    "    plt.plot(x3,y3,'k')\n",
    "    plt.xlabel('x')\n",
    "    plt.ylabel('$\\psi(x)$ odd')\n",
    "    return odd_levels[ind]"
   ]
  },
  {
   "cell_type": "code",
   "execution_count": 85,
   "metadata": {},
   "outputs": [
    {
     "data": {
      "text/plain": [
       "-8.811860492125783"
      ]
     },
     "execution_count": 85,
     "metadata": {},
     "output_type": "execute_result"
    },
    {
     "data": {
      "image/png": "[encoded data removed]",
      "text/plain": [
       "<Figure size 432x288 with 1 Axes>"
      ]
     },
     "metadata": {
      "needs_background": "light"
     },
     "output_type": "display_data"
    }
   ],
   "source": [
    "oddfunction(0)"
   ]
  },
  {
   "cell_type": "code",
   "execution_count": 87,
   "metadata": {},
   "outputs": [
    {
     "data": {
      "text/plain": [
       "-5.329820859075264"
      ]
     },
     "execution_count": 87,
     "metadata": {},
     "output_type": "execute_result"
    },
    {
     "data": {
      "image/png": "[encoded data removed]",
      "text/plain": [
       "<Figure size 432x288 with 1 Axes>"
      ]
     },
     "metadata": {
      "needs_background": "light"
     },
     "output_type": "display_data"
    }
   ],
   "source": [
    "oddfunction(1)"
   ]
  },
  {
   "cell_type": "code",
   "execution_count": 88,
   "metadata": {},
   "outputs": [
    {
     "data": {
      "text/plain": [
       "-0.22110950074551575"
      ]
     },
     "execution_count": 88,
     "metadata": {},
     "output_type": "execute_result"
    },
    {
     "data": {
      "image/png": "[encoded data removed]",
      "text/plain": [
       "<Figure size 432x288 with 1 Axes>"
      ]
     },
     "metadata": {
      "needs_background": "light"
     },
     "output_type": "display_data"
    }
   ],
   "source": [
    "oddfunction(2)"
   ]
  },
  {
   "cell_type": "code",
   "execution_count": null,
   "metadata": {},
   "outputs": [],
   "source": []
  }
 ],
 "metadata": {
  "kernelspec": {
   "display_name": "Python 3",
   "language": "python",
   "name": "python3"
  },
  "language_info": {
   "codemirror_mode": {
    "name": "ipython",
    "version": 3
   },
   "file_extension": ".py",
   "mimetype": "text/x-python",
   "name": "python",
   "nbconvert_exporter": "python",
   "pygments_lexer": "ipython3",
   "version": "3.9.1"
  }
 },
 "nbformat": 4,
 "nbformat_minor": 2
}
